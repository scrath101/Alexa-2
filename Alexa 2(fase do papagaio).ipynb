{
 "cells": [
  {
   "cell_type": "code",
   "execution_count": 3,
   "id": "52703ad8",
   "metadata": {},
   "outputs": [
    {
     "name": "stdout",
     "output_type": "stream",
     "text": [
      "Ouvindo, então fale...\n",
      "ó lá lá lá olha assim olha aqui é alexa fácil e tu papagaio\n"
     ]
    }
   ],
   "source": [
    "import speech_recognition as sr\n",
    "import pyttsx3 as pt\n",
    "import wikipedia as wiki\n",
    "\n",
    "audio = sr.Recognizer()\n",
    "maquina = pt.init()\n",
    "\n",
    "try:\n",
    "\n",
    "     with sr.Microphone() as source:\n",
    "        print('Ouvindo, então fale...') \n",
    "\n",
    "        voz = audio.listen(source)\n",
    "\n",
    "        comando = audio.recognize_google(voz, language='pt-BR')\n",
    "\n",
    "        comando = comando.lower() \n",
    "\n",
    "        if 'alexa 2' in comando:\n",
    "         print(comando)\n",
    "        maquina.say(comando)\n",
    "        maquina.runAndWait()\n",
    "        print(comando)\n",
    "\n",
    "\n",
    "except:\n",
    "\n",
    "    print(\"O microfone não está fucionando.\")\n",
    "\n",
    "\n",
    "\n",
    "#Como fazer um papagaio em pytho"
   ]
  }
 ],
 "metadata": {
  "kernelspec": {
   "display_name": "Python 3 (ipykernel)",
   "language": "python",
   "name": "python3"
  },
  "language_info": {
   "codemirror_mode": {
    "name": "ipython",
    "version": 3
   },
   "file_extension": ".py",
   "mimetype": "text/x-python",
   "name": "python",
   "nbconvert_exporter": "python",
   "pygments_lexer": "ipython3",
   "version": "3.9.13"
  }
 },
 "nbformat": 4,
 "nbformat_minor": 5
}
