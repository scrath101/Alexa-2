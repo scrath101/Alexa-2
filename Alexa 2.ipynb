{
 "cells": [
  {
   "cell_type": "code",
   "execution_count": 3,
   "id": "70162300",
   "metadata": {},
   "outputs": [
    {
     "ename": "SyntaxError",
     "evalue": "'return' outside function (3744737640.py, line 32)",
     "output_type": "error",
     "traceback": [
      "\u001b[1;36m  File \u001b[1;32m\"C:\\Users\\User2022\\AppData\\Local\\Temp\\ipykernel_3852\\3744737640.py\"\u001b[1;36m, line \u001b[1;32m32\u001b[0m\n\u001b[1;33m    return comando\u001b[0m\n\u001b[1;37m    ^\u001b[0m\n\u001b[1;31mSyntaxError\u001b[0m\u001b[1;31m:\u001b[0m 'return' outside function\n"
     ]
    }
   ],
   "source": [
    "import speech_recognition as sr\n",
    "import pyttsx3 as pt\n",
    "import datetime as dt\n",
    "import wikipedia as wiki\n",
    "\n",
    "audio = sr.Recognizer()\n",
    "maquina = pt.init()\n",
    "\n",
    "def assitente():\n",
    "    \n",
    "    \n",
    "            if 'alexa 2' in comando:\n",
    "                comando = comando.replace('alexa 2', '')\n",
    "                maquina.say(comando)\n",
    "                maquina.runAndWait()\n",
    "\n",
    "    \n",
    "try:\n",
    "\n",
    "         with sr.Microphone() as source:\n",
    "            print('Ouvindo, então fale...') \n",
    "\n",
    "            voz = audio.listen(source)\n",
    "\n",
    "            comando = audio.recognize_google(voz, language='pt-BR')\n",
    "\n",
    "            comando = comando.lower() \n",
    "\n",
    "except:\n",
    "\n",
    "        print(\"O microfone não está fucionando.\")\n",
    "        return comando \n",
    "\n",
    "def comandoVozUsuario(): \n",
    "    comando = assitente()\n",
    "    \n",
    "    if 'horas' in comando:\n",
    "        hora = datetime.datetime.now.strftime('%H:%M')\n",
    "        maquina.say('Agora é'+ hora)\n",
    "        maquina.runAndWait()   \n",
    "        \n",
    "return comandoVozUsuario "
   ]
  }
 ],
 "metadata": {
  "kernelspec": {
   "display_name": "Python 3 (ipykernel)",
   "language": "python",
   "name": "python3"
  },
  "language_info": {
   "codemirror_mode": {
    "name": "ipython",
    "version": 3
   },
   "file_extension": ".py",
   "mimetype": "text/x-python",
   "name": "python",
   "nbconvert_exporter": "python",
   "pygments_lexer": "ipython3",
   "version": "3.9.13"
  }
 },
 "nbformat": 4,
 "nbformat_minor": 5
}
